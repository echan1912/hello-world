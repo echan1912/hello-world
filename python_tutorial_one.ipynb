{
 "cells": [
  {
   "cell_type": "markdown",
   "metadata": {},
   "source": [
    "# Tutorial 1: a basic program"
   ]
  },
  {
   "cell_type": "markdown",
   "metadata": {},
   "source": [
    "Here is the basic Python program that we'll use to get started. \n",
    "\n",
    "Click on the code below and type _Ctrl+Enter_ to run it."
   ]
  },
  {
   "cell_type": "code",
   "execution_count": null,
   "metadata": {},
   "outputs": [],
   "source": [
    "# Program to do the obvious\n",
    "print(\"Hello world!\") # Print a message"
   ]
  },
  {
   "cell_type": "markdown",
   "metadata": {},
   "source": [
    "Each of the parts will be discussed in turn."
   ]
  },
  {
   "cell_type": "markdown",
   "metadata": {},
   "source": [
    "## Comments and statements"
   ]
  },
  {
   "cell_type": "markdown",
   "metadata": {},
   "source": [
    "**Comments** can be inserted into a program with the `#` symbol, and anything from the `#` to the end of the line is ignored (with the exception of the first line). The only way to stretch comments over several lines is to use a `#` on each line.\n",
    "\n",
    "Everything else is a Python **statement**."
   ]
  },
  {
   "cell_type": "markdown",
   "metadata": {},
   "source": [
    "## Simple printing"
   ]
  },
  {
   "cell_type": "markdown",
   "metadata": {},
   "source": [
    "In computer programming, \"printing\" means displaying to the screen. \n",
    "\n",
    "The **print** function outputs some information and in the above case it prints out the **string** \"`Hello world.`\" A string is just a sequence of text characters."
   ]
  },
  {
   "cell_type": "markdown",
   "metadata": {},
   "source": [
    "## Running the program"
   ]
  },
  {
   "cell_type": "markdown",
   "metadata": {},
   "source": [
    "To create the code in a Python **script** (an independent program), type in the example program using a text editor, and save it as e.g. \"myprogram.py\". \n",
    "\n",
    "*Emacs* is one suitable editor for this.\n",
    "\n",
    "The easiest way to run the program is to just type the following at the prompt."
   ]
  },
  {
   "cell_type": "markdown",
   "metadata": {},
   "source": [
    "    python myprogram.py"
   ]
  },
  {
   "cell_type": "markdown",
   "metadata": {},
   "source": [
    "If something goes wrong then you may get error messages, or you may get nothing. Don't panic! This is a normal part of the process of programming. Try to work out what has happened, correct your code and try again. This is called **debugging**.\n",
    "\n",
    "When the file is executed, Python first **compiles** it and then **executes** that compiled version. So after a short pause for compilation the program should run quite quickly.\n",
    "Make sure your program works before proceeding."
   ]
  },
  {
   "cell_type": "markdown",
   "metadata": {},
   "source": [
    "## Arithmetic operations"
   ]
  },
  {
   "cell_type": "markdown",
   "metadata": {},
   "source": [
    "Python uses all the usual programming arithmetic operators:\n",
    "\n",
    "    1 + 2        # Add 1 and 2 \n",
    "    3 – 4        # Subtract 4 from 3 \n",
    "    5 * 6        # Multiply 5 and 6\n",
    "    16 / 8       # Divide 16 by 8 to give 2\n",
    "    9 ** 10      # Nine to the power of 10\n",
    "    5 % 2        # Remainder of 5 divided by 2\n",
    "\n"
   ]
  },
  {
   "cell_type": "markdown",
   "metadata": {},
   "source": [
    "\n",
    "An example is shown below. Run this and try a few of the other operators:"
   ]
  },
  {
   "cell_type": "code",
   "execution_count": null,
   "metadata": {},
   "outputs": [],
   "source": [
    "print(18 % 4)"
   ]
  },
  {
   "cell_type": "markdown",
   "metadata": {},
   "source": [
    "## Variables"
   ]
  },
  {
   "cell_type": "markdown",
   "metadata": {},
   "source": [
    "A **variable** is a name that refers to a value. Variables used all the time in programming.\n",
    "\n",
    "To make a variable in python, you simply **assign** a value to a name using a single equals sign, e.g."
   ]
  },
  {
   "cell_type": "markdown",
   "metadata": {},
   "source": [
    "        hello = \"Nice to meet you!\"\n",
    "        x = 42"
   ]
  },
  {
   "cell_type": "markdown",
   "metadata": {},
   "source": [
    "Try changing the value that is assigned to the variable x below. \n",
    "Then make some variables of your own and print them to show their values."
   ]
  },
  {
   "cell_type": "code",
   "execution_count": null,
   "metadata": {},
   "outputs": [],
   "source": [
    "x = 42\n",
    "print(x)"
   ]
  },
  {
   "cell_type": "markdown",
   "metadata": {},
   "source": [
    "## Integers and Floats"
   ]
  },
  {
   "cell_type": "markdown",
   "metadata": {},
   "source": [
    "Numbers in python have a **type**. For example:\n",
    "\n",
    "    10  \n",
    "is treated as an integer (**int**), whilst\n",
    "   \n",
    "    10.5 \n",
    "is called a **float** (floating-point number, i.e. a member of the set of real numbers, in the mathematical sense). \n",
    "\n",
    "In some languages, arithmetic using integers will return an integer, but Python 3 behaves in a more natural way. Try the following code:"
   ]
  },
  {
   "cell_type": "code",
   "execution_count": null,
   "metadata": {},
   "outputs": [],
   "source": [
    "x = 8\n",
    "y = 3\n",
    "z = x/y\n",
    "\n",
    "print(z)"
   ]
  },
  {
   "cell_type": "markdown",
   "metadata": {},
   "source": [
    "If needed, you can convert a number from one type to another using the commands `int` or `float`:\n"
   ]
  },
  {
   "cell_type": "code",
   "execution_count": null,
   "metadata": {},
   "outputs": [],
   "source": [
    "zz = int(z)\n",
    "print(zz)"
   ]
  },
  {
   "cell_type": "markdown",
   "metadata": {},
   "source": [
    "##  Printing Embedded Variables"
   ]
  },
  {
   "cell_type": "markdown",
   "metadata": {},
   "source": [
    "The first print statement in our original program printed out a specified string. We have also printed out the value of a variable above:\n",
    "\n",
    "    print(x)\n",
    "\n",
    "Note there are no quotes, otherwise the literal string \"x\" would be printed. It is also possible to print a combination of literal strings and variables:\n",
    "\n",
    "    print(\"The answer is\", x)\n",
    "    \n",
    "A comma is used between quoted text and variables:\n",
    "\n",
    "    print(\"Not all\", x, \"are\", y)\n",
    "    \n",
    "By default the print statement appends a **newline** character. This can be avoided by ending the print call with the extra parameter **end=''**.\n",
    "\n",
    "Try the following example and edit it to test out other combinations:"
   ]
  },
  {
   "cell_type": "code",
   "execution_count": null,
   "metadata": {},
   "outputs": [],
   "source": [
    "a = 5\n",
    "b = 10\n",
    "c = a * b\n",
    "\n",
    "print(a, \"multiplied by\", b, \"=\", c)"
   ]
  },
  {
   "cell_type": "markdown",
   "metadata": {},
   "source": [
    "## User input"
   ]
  },
  {
   "cell_type": "markdown",
   "metadata": {},
   "source": [
    "Occasionally a program needs to be interactive and use values **input** by the user. Test the example below:"
   ]
  },
  {
   "cell_type": "code",
   "execution_count": null,
   "metadata": {},
   "outputs": [],
   "source": [
    "num = eval(input(\"Type in a Number: \")) \n",
    "str = input(\"Type in a String: \") \n",
    "print(\"num =\", num) \n",
    "print(\"num * 2 =\",num*2) \n",
    "print(\"str =\", str) \n",
    "print(\"str * 2 =\",str*2)"
   ]
  },
  {
   "cell_type": "markdown",
   "metadata": {},
   "source": [
    "##  Exercise 1"
   ]
  },
  {
   "cell_type": "markdown",
   "metadata": {},
   "source": [
    "Rewrite the \"Hello world\" program so that the program requests the user's name, which is stored in a variable. The program then greets the user by name."
   ]
  },
  {
   "cell_type": "code",
   "execution_count": null,
   "metadata": {},
   "outputs": [],
   "source": []
  },
  {
   "cell_type": "markdown",
   "metadata": {},
   "source": [
    "##  Testing"
   ]
  },
  {
   "cell_type": "markdown",
   "metadata": {},
   "source": [
    "The next few structures rely on a test being true or false. In Python any non-zero number and non-empty string is counted as true. The number zero and the empty string are counted as false. "
   ]
  },
  {
   "cell_type": "markdown",
   "metadata": {},
   "source": [
    "## IF/THEN/ELSE"
   ]
  },
  {
   "cell_type": "markdown",
   "metadata": {},
   "source": [
    "As with other languages Python includes if/then/else statements. These are of the following form:\n",
    "\n",
    "    if a > 0:\n",
    "\t\tprint(\"The number is greater than 0\")\n",
    "\telse:\n",
    "\t\tprint(\"The number is zero or less\")\n",
    "        \n",
    "The \"if\" statement tests if \"a\" is greater than 0. If it is then the message \"The number is greater than 0\" is printed and the \"else\" staement is skipped. \n",
    "\n",
    "If the \"if\" statement is false the the \"else\" part of the code block is entered and \"The number is zero or less\" is printed.\n",
    "\n",
    "It is also possible to include more alternatives in a conditional statement: \n",
    "\n",
    "    if a > 10:\t\t\t\t\t\t\t\t\t\n",
    "\t\tprint(\" The number is greater than 10\")\n",
    "\telif a > 0:\t\t\t\t    # If above fails, try this\n",
    "\t\tprint(\" The number is greater than 0\")\n",
    "\telif < 0:\t\t\t\t\t# If that fails, try this\n",
    "\t\tprint(\" The number is less than 0\")\n",
    "\telse:\t\t\t\t\t    # Now, everything has failed\n",
    "\t\tprint(\"The number is 0\")\n",
    "\n",
    "Note the \"elif\" meaning \"else if\". Only one of the print statements will ever be printed. Test the code below:"
   ]
  },
  {
   "cell_type": "code",
   "execution_count": null,
   "metadata": {},
   "outputs": [],
   "source": [
    "num = eval(input(\"What number am I thinking of? \")) \n",
    "if num > 42:                                    \n",
    "    print(\" Too high!\")\n",
    "elif num < 42:              \n",
    "    print(\" Too low!\")\n",
    "else:                   \n",
    "    print(\"Correct!\")"
   ]
  },
  {
   "cell_type": "markdown",
   "metadata": {},
   "source": [
    "Here are some other possible tests on numbers and strings. \n",
    "\n",
    "\ta == b  # True if a is equal to b, where a could be Numerical or string. \n",
    "   *Beware:* **Don't** use the single equals sign (=) as a test. \n",
    "   A single = is the assignment operation we saw above, which is very different.\n",
    "   \n",
    "\ta != b  # True if a is not equal to b.\n",
    "   \n"
   ]
  },
  {
   "cell_type": "markdown",
   "metadata": {},
   "source": [
    "    \n",
    "You can also use logical and, or and not: \n",
    "\n",
    "    a and b  # Are a and b true?\n",
    "\ta or b   # Is either a or b true?\n",
    "\tnot a\t# Is a false?"
   ]
  },
  {
   "cell_type": "markdown",
   "metadata": {},
   "source": [
    "## Exercise 2"
   ]
  },
  {
   "cell_type": "markdown",
   "metadata": {},
   "source": [
    "Using `eval(input())` as above, write a program that takes a number and checks if it is 0, odd or even and prints out an appropriate message:"
   ]
  },
  {
   "cell_type": "code",
   "execution_count": null,
   "metadata": {},
   "outputs": [],
   "source": []
  },
  {
   "cell_type": "markdown",
   "metadata": {},
   "source": [
    "##  WHILE"
   ]
  },
  {
   "cell_type": "markdown",
   "metadata": {},
   "source": [
    "The while loop executes a block of code as long as a condition is true.\n",
    "\n",
    "\tcount = 0 \n",
    "\twhile count <= 10:      \n",
    "\t\tcount += 1       # increments count by 1\n",
    "\t\tprint(count, end=' ') \n",
    "\t\t\n",
    "The while loop is iterated until count is 11.\n",
    "\n",
    "Here is a program that reads some input from the keyboard and won't continue until the password is correct:"
   ]
  },
  {
   "cell_type": "code",
   "execution_count": null,
   "metadata": {},
   "outputs": [],
   "source": [
    "str = input(\"Password: \")     # Get input\n",
    "while str != \"gotit\":         # While input is wrong...\n",
    "    print(\"sorry. Again? \")   # Ask again\n",
    "    str = input(\"Password: \") # Get input again\n",
    "print(\"Success!\")             # Correct password"
   ]
  },
  {
   "cell_type": "markdown",
   "metadata": {},
   "source": [
    "Note that unlike other languages Python uses indentation to define code blocks. Many languages use curly braces, parentheses, etc. In Python the loop ends by checking the indentation level of lines. This is also true for \"if/else\" and \"for\" loops."
   ]
  },
  {
   "cell_type": "markdown",
   "metadata": {},
   "source": [
    "## Exercise 3"
   ]
  },
  {
   "cell_type": "markdown",
   "metadata": {},
   "source": [
    "(a) Modify the while loop code above to achieve the same result but without the need for the “str” variable. You should be able to do it in 3 lines of code.\n",
    "\n",
    "\n"
   ]
  },
  {
   "cell_type": "code",
   "execution_count": null,
   "metadata": {},
   "outputs": [],
   "source": []
  },
  {
   "cell_type": "markdown",
   "metadata": {},
   "source": [
    "(b) Write a new while loop to calculate the factorial of 5."
   ]
  },
  {
   "cell_type": "code",
   "execution_count": null,
   "metadata": {},
   "outputs": [],
   "source": []
  },
  {
   "cell_type": "markdown",
   "metadata": {},
   "source": [
    "## Further reading"
   ]
  },
  {
   "cell_type": "markdown",
   "metadata": {},
   "source": [
    "From **Think Python 2nd edition** by Allen B. Downey\n",
    "\n",
    "[Chapter 1](http://www.greenteapress.com/thinkpython2/html/thinkpython2002.html): more about programming languages, the different types of errors you will encounter in writing programs and the important skill of debugging.\n",
    "\n",
    "[Chapter 2](http://www.greenteapress.com/thinkpython2/html/thinkpython2003.html): more details about values, types, variables and operations."
   ]
  },
  {
   "cell_type": "markdown",
   "metadata": {},
   "source": [
    "## Further exercises (optional)"
   ]
  },
  {
   "cell_type": "markdown",
   "metadata": {},
   "source": [
    "* Using only the python concepts you have learned so far, write a program that asks the user for an integer and prints a triangle of asterisks with that many rows.\n",
    "e.g.\n",
    "\n"
   ]
  },
  {
   "cell_type": "raw",
   "metadata": {},
   "source": [
    "input = 5\n",
    "\n",
    "*\n",
    "**\n",
    "***\n",
    "****\n",
    "*****\n"
   ]
  },
  {
   "cell_type": "code",
   "execution_count": null,
   "metadata": {},
   "outputs": [],
   "source": []
  }
 ],
 "metadata": {
  "anaconda-cloud": {},
  "kernelspec": {
   "display_name": "Python 3",
   "language": "python",
   "name": "python3"
  },
  "language_info": {
   "codemirror_mode": {
    "name": "ipython",
    "version": 3
   },
   "file_extension": ".py",
   "mimetype": "text/x-python",
   "name": "python",
   "nbconvert_exporter": "python",
   "pygments_lexer": "ipython3",
   "version": "3.7.4"
  }
 },
 "nbformat": 4,
 "nbformat_minor": 1
}
