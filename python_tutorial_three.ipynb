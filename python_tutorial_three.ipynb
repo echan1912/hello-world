{
 "cells": [
  {
   "cell_type": "markdown",
   "metadata": {},
   "source": [
    "# Tutorial 3: Modules, files and dictionaries"
   ]
  },
  {
   "cell_type": "markdown",
   "metadata": {},
   "source": [
    "## Returning values from functions"
   ]
  },
  {
   "cell_type": "markdown",
   "metadata": {},
   "source": [
    "As well as taking input arguments, functions can also **return** information to the part of the program from which they were called.\n",
    "\n",
    "Test the `add` function below and try out some modified versions:"
   ]
  },
  {
   "cell_type": "code",
   "execution_count": 1,
   "metadata": {},
   "outputs": [
    {
     "name": "stdout",
     "output_type": "stream",
     "text": [
      "7\n"
     ]
    }
   ],
   "source": [
    "def add(num1, num2): \n",
    "    num3 = num1 + num2\n",
    "    return num3 \n",
    "\n",
    "num = add(3, 4)\n",
    "print(num)"
   ]
  },
  {
   "cell_type": "markdown",
   "metadata": {},
   "source": [
    "## Modules"
   ]
  },
  {
   "cell_type": "markdown",
   "metadata": {},
   "source": [
    "Modules, or libraries, are common to most programming languages, including Perl, C++ and Java.\n",
    "\n",
    "Modules provide a set of code to provide particular functions that can be included in your own code. They are essentially programs with functions that can be called from your own program.\n",
    "\n",
    "Python provides a large library of modules, including Biopython and PyCogent, which are imported with the `import` command.\n",
    "\n",
    "The most commonly used is probably the `sys` module which contains system-specific functionality. This is required for functions that are often included by default in other languages.\n"
   ]
  },
  {
   "cell_type": "markdown",
   "metadata": {},
   "source": [
    "## Command line arguments"
   ]
  },
  {
   "cell_type": "markdown",
   "metadata": {},
   "source": [
    "Often when writing a Python script you want to include the option to read values in to the script (command line arguments). In many languages this is a built in function but with Python you need to import the sys module.\n",
    "\n",
    "\timport sys\n",
    "\n",
    "Arguments can then be included when you run the script. For example, if the script is called test.py:\n",
    "\n",
    "\tpython test.py arg1 arg2 arg3\n",
    "\n",
    "To read them in to the script the sys.argv function is used:\n",
    "\n",
    "\timport sys\n",
    "\n",
    "\ta1 = sys.argv[1]\n",
    "\ta2 = sys.argv[2]\n",
    "\ta3 = sys.argv[3]\n",
    "\n",
    "Now the variable a1 has the value of arg1 etc.\n",
    "It is possible to avoid having to write sys each time the function is called by explicitly importing that function.\n",
    "\n",
    "\tfrom sys import argv\n",
    "\n",
    "Or to import all functions:\n",
    "\n",
    "\tfrom sys import *\n",
    "\n",
    "These options work for all modules and using either of the above the rest of the code is now simply:\n",
    "\n",
    "\ta1 = argv[1]\n",
    "\ta2 = argv[2]\n",
    "\ta3 = argv[3]"
   ]
  },
  {
   "cell_type": "markdown",
   "metadata": {},
   "source": [
    "## Exercise 1"
   ]
  },
  {
   "cell_type": "markdown",
   "metadata": {},
   "source": [
    "Write a script that takes 2 numbers from the command line, multiplies them together and prints the result. \n",
    "\n",
    "The script should pass the numbers to a function `multiply` and print out the returned result."
   ]
  },
  {
   "cell_type": "markdown",
   "metadata": {},
   "source": [
    "## File handling"
   ]
  },
  {
   "cell_type": "markdown",
   "metadata": {},
   "source": [
    "Basic file handling in Python is very straightforward.\n",
    "\n",
    "To write to a file:\n",
    "\n",
    "\tout_file = open(\"test.txt\",\"w\") # \"w\" for \"write\"\n",
    "\tout_file.write(\"This Text is going to out file\\nSome more text\\n\") \n",
    "\tout_file.close() \n",
    "\n",
    "To read a file: \n",
    "\n",
    "\tin_file = open(\"test.txt\",\"r\")   # “r” for \"read\"\n",
    "\ttext = in_file.read() \n",
    "\tin_file.close() \n",
    "\tprint(text)\n",
    "    \n",
    "To file can be read one line at a time using a while loop:\n",
    "\n",
    "\tin_file = open(filename) # \"r\" is optional as it is the default behaviour \n",
    "\tin_line = in_file.readline() \n",
    "\twhile in_line != \"\":\n",
    "\t\tin_line = in_file.readline() \n",
    "\t\tprint(in_line)\n",
    "\tin_file.close()\n",
    "\n",
    "The `while` loop will continue until the end of the file is reached and the `in_line` string is empty. A blank line will not be regarded as an empty string as it will contain the newline character so the break will only occur at the end of the file.\n",
    "The `readline()` command reads the file one line at a time but an alternative is to read the entire file contents with `read`:\n",
    "\n",
    "\tin_file = open(filename) \n",
    "\tcontents = in_file.read() \n",
    "\tprint(contents)\n",
    "\n",
    "\tin_file.close() \n",
    "\n",
    "The file contents can also be read into a list and iterated over in a for loop:\n",
    "\n",
    "\tin_file = open(filename) \n",
    "\tfor line in in_file .readlines(): \n",
    "\t\tprint(line) \n",
    "\tin_file.close() \n",
    "\n",
    "It is also possible to treat the file as a list so you don't need to use readlines() inside a for loop, you just iterate over the file: \n",
    "\n",
    "\tin_file = open(filename) \n",
    "\tfor line in in_file: \n",
    "\t\tprint(line) \n",
    "\tin_file.close()\n",
    "\n",
    "Python provides a string method called `strip()` which will remove whitespace, including newlines, from both ends of a string. It also has variants which can strip one end only called `rstrip` and `lstrip` too. The `rstrip` method can be used to remove newlines:\n",
    "\n",
    "\tin_file = open(filename) \n",
    "\tfor line in in_file: \n",
    "\t\tstrip_line = line.rstrip()\n",
    "\t\tprint(strip_line) \n",
    "\tin_file.close()\n",
    "\n",
    "\n",
    "Or more simply:\n",
    "\n",
    "\tin_file = open(filename) \n",
    "\tfor line in in_file: \n",
    "\t\tprint(line.rstrip())\n",
    "\tin_file.close()\n",
    "\n",
    "\n",
    "NOTE: An alternative to `rstrip` is `line = line[:-1]`\n"
   ]
  },
  {
   "cell_type": "markdown",
   "metadata": {},
   "source": [
    "## Exercise 2"
   ]
  },
  {
   "cell_type": "markdown",
   "metadata": {},
   "source": [
    "Write a script that opens a text file and prints the contents to screen.\n",
    "\n",
    "Try using the various options to read the contents of the file.\n",
    "\n",
    "Modify the script to write the contents of a file to a second file. Do this twice, the first time as an exact copy and the second removing all of the newlines.\n",
    "\n",
    "You can use the http://teaching.bc.ic.ac.uk/msc/ipython-files/exercisefiles/entamoeba.txt file for this exercise.\n"
   ]
  },
  {
   "cell_type": "markdown",
   "metadata": {},
   "source": [
    "## Dictionaries"
   ]
  },
  {
   "cell_type": "markdown",
   "metadata": {},
   "source": [
    "Dictionaries are like lists but instead of having numbers as their index they can have anything as an index (called a **key**) which is then associated with the array element (called the **value**).\n",
    "\n",
    "Dictionaries associate a key with a value, for example, associating codons with their amino acids:\n",
    "\n",
    "\t'ttt' => 'F'\n",
    "\t'tta' => 'L'\n",
    "\tetc \n",
    "\n",
    "Dictionaries enable this type of data to be stored and handled.\n",
    "\n",
    "A dictionary is **created** in a similar manner to a list, but with key/value pairs and using curly braces:\n",
    "\n",
    "\t codons = {'ttt':'F', 'tta':'L', 'gga':'G'}    # Note curly braces\n",
    "\n",
    "Or items can be **added** directly:\n",
    "\n",
    "\t codons['aac'] = 'N'    # Note square braces\n",
    "\n",
    "A key can be **searched** for:\n",
    "\n",
    "\tif codons.has_key('aac'):\n",
    "\n",
    "All keys or values can be **retrieved** and converted to a list:\n",
    "\n",
    "\tkeys = list(codons.keys())\n",
    "\tkeys.sort() \n",
    "\tfor x in keys: \n",
    "\t\tprint(x)\n",
    "\t\tprint(codons[x])  # Prints the value for this key\n",
    "\n",
    "Or:\n",
    "\n",
    "    values = list(codons.values())\n",
    "\tfor x in values: \n",
    "\t\tprint(x)\n",
    "\n",
    "\n",
    "You can use `del` to **remove** a key/value pair from a dictionary. \n",
    "\n",
    "\tdel codons['aac']\n"
   ]
  },
  {
   "cell_type": "code",
   "execution_count": 2,
   "metadata": {},
   "outputs": [
    {
     "name": "stdout",
     "output_type": "stream",
     "text": [
      "gga\n",
      "G\n",
      "tta\n",
      "L\n",
      "ttt\n",
      "F\n"
     ]
    }
   ],
   "source": [
    "codons = {'ttt':'F', 'tta':'L', 'gga':'G'}\n",
    "\n",
    "keys = list(codons.keys())\n",
    "keys.sort() \n",
    "for x in keys: \n",
    "    print(x)\n",
    "    print(codons[x])"
   ]
  },
  {
   "cell_type": "markdown",
   "metadata": {},
   "source": [
    "## Exercise 3"
   ]
  },
  {
   "cell_type": "markdown",
   "metadata": {},
   "source": [
    "Write a program that creates a dictionary to expand a three-letter abbreviation for the months of the year. The key for each entry should be the abbreviation and the value the full name of the month. For example:\n",
    "\n",
    "\tJan -> January\n",
    "\tFeb -> February\n",
    "\tetc …\n",
    "\n",
    "Test your dictionary with a for loop that iterates over the keys and prints out the key and value.\n",
    "\n",
    "Modify your program to convert a string of the form \"25th Jan 2016\" to the form \"25th January 2016\".\n"
   ]
  },
  {
   "cell_type": "markdown",
   "metadata": {},
   "source": [
    "## Try/Except"
   ]
  },
  {
   "cell_type": "markdown",
   "metadata": {},
   "source": [
    "Python provides a method to trap unexpected behaviours to prevent the script crashing. For example:\n",
    "\n",
    "\tprint(\"Type -1 to exit\")\n",
    "\tnumber = 1 \n",
    "\twhile number != -1: \n",
    "\t\tnumber = int(raw_input(\"Enter a number: \")) \n",
    "\t\tprint(\"You entered: \", number)\n",
    "\n",
    "The program will prompt for a number and  print it out. It will continue prompting until the exit condition is reached.\n",
    "\n",
    "It takes a string as input and converts it to an integer.\n",
    "\n",
    "There is a problem with the previous code in that if text other than a number was entered, for example “2d”, the script would crash. \n",
    "\n",
    "This can be prevented using try/except:\n",
    "\n",
    "    print(\"Type -1 to exit\") \n",
    "\tnumber = 1 \n",
    "\twhile number != -1: \n",
    "\t\ttry: \n",
    "\t\t\tnumber = int(raw_input(\"Enter a number: \")) \n",
    "\t\t\tprint(\"You entered: \", number) \n",
    "\t\texcept ValueError: \n",
    "\t\t\tprint(\"That was not a number.\")\n",
    "\n",
    "Now when something like “2d” is entered it prints “That was not a number” and continues without exiting.\n",
    "\n",
    "Multiple errors can be caught using more than one except if necessary.\n",
    "\n",
    "Test the try/catch code below:"
   ]
  },
  {
   "cell_type": "code",
   "execution_count": null,
   "metadata": {
    "collapsed": true
   },
   "outputs": [],
   "source": [
    "print(\"Type -1 to exit\") \n",
    "number = 1 \n",
    "while number != -1: \n",
    "    try: \n",
    "        number = int(input(\"Enter a number: \")) \n",
    "        print(\"You entered: \",number) \n",
    "    except ValueError: \n",
    "        print(\"That was not a number.\")"
   ]
  },
  {
   "cell_type": "markdown",
   "metadata": {},
   "source": [
    "## Exercise 4"
   ]
  },
  {
   "cell_type": "markdown",
   "metadata": {},
   "source": [
    "The objective of this exercise is to write your own sequence translation script.\n",
    "There are two files required to complete this exercise:\n",
    "\n",
    "1) A sample nucleotide sequence in FASTA format:\n",
    "\n",
    "http://teaching.bc.ic.ac.uk/msc/ipython-files/exercisefiles/sequence.txt\n",
    "\n",
    "2) A file of codon translations:\n",
    "\n",
    "http://teaching.bc.ic.ac.uk/msc/ipython-files/exercisefiles/codons.txt\n",
    "\n",
    "The format of the codons file is the codon on one line, the amino acid on the next:\n",
    "\n",
    "    ttt\n",
    "    F\n",
    "    ttc\n",
    "    F\n",
    "    tta\n",
    "    L\n",
    "    \n",
    "etc\n",
    "   \n",
    "Complete the script below to translate the sequence in the fasta file **in the first forward reading frame only**. We will use the BioPython function to load the FASTA file, but you should write your own code to translate the DNA sequence.\n"
   ]
  },
  {
   "cell_type": "code",
   "execution_count": null,
   "metadata": {
    "collapsed": true
   },
   "outputs": [],
   "source": [
    "from Bio import SeqIO\n",
    "\n",
    "# Load the DNA seqence from \"sequence.fasta\" using BioPython\n",
    "fname = \"sequence.txt\"\n",
    "dna = str(SeqIO.read(fname, \"fasta\").seq)\n",
    "print(dna)\n",
    "\n",
    "# Initialise a dictionary to store codons\n",
    "codons = {}\n",
    "\n",
    "# Read in the codons and amino acids from \"codons.txt\" and store in \n",
    "# the dictionary.\n",
    "\n",
    "# Initialise your translation\n",
    "trans = \"\"\n",
    "\n",
    "# Work through the sequence with step size of 3, taking 3 nucleotides \n",
    "# each time\n",
    "for count in range(0, len(dna), 3):\n",
    "    # Take the next codon and append its translation to trans\n",
    "\n",
    "# Print out your translation\n"
   ]
  },
  {
   "cell_type": "markdown",
   "metadata": {},
   "source": [
    "## Further reading"
   ]
  },
  {
   "cell_type": "markdown",
   "metadata": {},
   "source": [
    "From Think Python 2nd edition by Allen B. Downey\n",
    "\n",
    "[Chapter 11](http://www.greenteapress.com/thinkpython2/html/thinkpython2012.html): all about dictionaries.\n",
    "\n",
    "[Chapter 14](http://www.greenteapress.com/thinkpython2/html/thinkpython2015.html): all about files.\n",
    "\n",
    "\n"
   ]
  },
  {
   "cell_type": "markdown",
   "metadata": {},
   "source": [
    "## Further exercise (optional)"
   ]
  },
  {
   "cell_type": "markdown",
   "metadata": {},
   "source": [
    "The solution to exercise 4 only translates the DNA sequence in 1 frame whereas ideally it should translate in all 6 frames.\n",
    "\n",
    "*Modify your script* to translate the sequence in all 6 reading frames. You may find it beneficial to use a function in this version.\n",
    "\n",
    "When you reverse the sequence, you need to complement it and one way to achieve this is by using an intermediate:"
   ]
  },
  {
   "cell_type": "markdown",
   "metadata": {},
   "source": [
    "Convert 'a' to a temp letter first, 'x', then convert 't' to 'a'. \n",
    "Now can convert 'x' to 't'. \n",
    "\n",
    "Without the intermediate 'x', any 'a' converted to 't' would just be converted back again.\n"
   ]
  },
  {
   "cell_type": "code",
   "execution_count": null,
   "metadata": {
    "collapsed": true
   },
   "outputs": [],
   "source": [
    "seq = 'attcg'\n",
    "print(\"original    :\", seq)\n",
    "seq = seq.replace('a', 'x') \n",
    "seq = seq.replace('t', 'a') \n",
    "seq = seq.replace('x', 't')\n",
    "print(\"after a<->t :\", seq)"
   ]
  },
  {
   "cell_type": "markdown",
   "metadata": {},
   "source": [
    "Now do the same for 'c' and 'g'"
   ]
  },
  {
   "cell_type": "code",
   "execution_count": null,
   "metadata": {
    "collapsed": true
   },
   "outputs": [],
   "source": []
  }
 ],
 "metadata": {
  "kernelspec": {
   "display_name": "Python 3",
   "language": "python",
   "name": "python3"
  },
  "language_info": {
   "codemirror_mode": {
    "name": "ipython",
    "version": 3
   },
   "file_extension": ".py",
   "mimetype": "text/x-python",
   "name": "python",
   "nbconvert_exporter": "python",
   "pygments_lexer": "ipython3",
   "version": "3.7.4"
  }
 },
 "nbformat": 4,
 "nbformat_minor": 1
}
