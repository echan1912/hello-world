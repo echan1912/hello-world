{
 "cells": [
  {
   "cell_type": "markdown",
   "metadata": {
    "deletable": true,
    "editable": true
   },
   "source": [
    "# Tutorial 2: strings, lists and functions"
   ]
  },
  {
   "cell_type": "markdown",
   "metadata": {
    "deletable": true,
    "editable": true
   },
   "source": [
    "## Strings"
   ]
  },
  {
   "cell_type": "markdown",
   "metadata": {
    "deletable": true,
    "editable": true
   },
   "source": [
    "We have previously encountered the concept of a **string** as a sequence of characters. Each character in the string can be accessed using square brackets [] containing its **index**:"
   ]
  },
  {
   "cell_type": "code",
   "execution_count": null,
   "metadata": {
    "collapsed": false,
    "deletable": true,
    "editable": true
   },
   "outputs": [],
   "source": [
    "s = \"Bioinformatics\"\n",
    "print(s[4])"
   ]
  },
  {
   "cell_type": "markdown",
   "metadata": {
    "deletable": true,
    "editable": true
   },
   "source": [
    "Notice that the first character has index 0.\n",
    "\n",
    "To find the length of a string, we use the function **len()**"
   ]
  },
  {
   "cell_type": "code",
   "execution_count": null,
   "metadata": {
    "collapsed": false,
    "deletable": true,
    "editable": true
   },
   "outputs": [],
   "source": [
    "s = \"Bioinformatics\"\n",
    "length = len(s)\n",
    "print(length)"
   ]
  },
  {
   "cell_type": "markdown",
   "metadata": {
    "deletable": true,
    "editable": true
   },
   "source": [
    "## FOR loops with strings"
   ]
  },
  {
   "cell_type": "markdown",
   "metadata": {
    "deletable": true,
    "editable": true
   },
   "source": [
    "We previously saw how to construct a loop using **while**. To make a loop over each character in a string, we can use the **for** structure:"
   ]
  },
  {
   "cell_type": "code",
   "execution_count": null,
   "metadata": {
    "collapsed": false,
    "deletable": true,
    "editable": true
   },
   "outputs": [],
   "source": [
    "text = \"Bioinformatics\"\n",
    "for character in text:\n",
    "    print(character)"
   ]
  },
  {
   "cell_type": "markdown",
   "metadata": {
    "deletable": true,
    "editable": true
   },
   "source": [
    "## Excercise 1"
   ]
  },
  {
   "cell_type": "markdown",
   "metadata": {
    "deletable": true,
    "editable": true
   },
   "source": [
    "Write a program that asks the user to input a string and outputs only the consonants from that string."
   ]
  },
  {
   "cell_type": "code",
   "execution_count": null,
   "metadata": {
    "collapsed": false,
    "deletable": true,
    "editable": true
   },
   "outputs": [],
   "source": []
  },
  {
   "cell_type": "markdown",
   "metadata": {
    "deletable": true,
    "editable": true
   },
   "source": [
    "## String slices"
   ]
  },
  {
   "cell_type": "markdown",
   "metadata": {
    "deletable": true,
    "editable": true
   },
   "source": [
    "A **slice** is a way to get a substring from a string. A slice is created using a pair of square brackets containing the start and end positions for the substring, separated by a colon:"
   ]
  },
  {
   "cell_type": "code",
   "execution_count": null,
   "metadata": {
    "collapsed": false,
    "deletable": true,
    "editable": true
   },
   "outputs": [],
   "source": [
    "name = \"bioinformatics\"\n",
    "part = name[2:8] \n",
    "print(part, \"has length\", len(part))"
   ]
  },
  {
   "cell_type": "markdown",
   "metadata": {
    "deletable": true,
    "editable": true
   },
   "source": [
    "Notice that the first character in the string always has index 0. \n",
    "\n",
    "We can alse use **slice** option to reverse a string or substring, using the \"-1\" option:"
   ]
  },
  {
   "cell_type": "code",
   "execution_count": null,
   "metadata": {
    "collapsed": false,
    "deletable": true,
    "editable": true
   },
   "outputs": [],
   "source": [
    "s = \"abcde\"\n",
    "s = s[::-1]\n",
    "print(s)"
   ]
  },
  {
   "cell_type": "markdown",
   "metadata": {
    "deletable": true,
    "editable": true
   },
   "source": [
    "## Lists"
   ]
  },
  {
   "cell_type": "markdown",
   "metadata": {
    "deletable": true,
    "editable": true
   },
   "source": [
    "A python **list** is an ordered list of items (e.g. numbers and/or strings). The statements \n",
    "\n",
    "\tmonths = ['Jan', 'Feb', 'Mar', 'Apr', 'May', 'Jun'] \n",
    "\tnumbers = [1, 2, 3, 4]\n",
    "\n",
    "assign two lists, one a six element list of strings and the second a four element list of numbers. It is possible to mix element types in a list:\n",
    "\n",
    "    mixed =  ['Jan', 2, 'Mar', 4, 'May', 'Jun']\n",
    "\n",
    "or even to include a list as an element of another list:\n",
    "\n",
    "    mixed =  ['Jan', 2, 'Mar', 4, 'May', ['Mon', 'Tues', 'Wed'], 'Jun']\n",
    "    \n",
    "The list is accessed by using indices starting from 0, and square brackets are used to specify the index. \n"
   ]
  },
  {
   "cell_type": "code",
   "execution_count": null,
   "metadata": {
    "collapsed": false,
    "deletable": true,
    "editable": true
   },
   "outputs": [],
   "source": [
    "mixed =  ['Jan', 2, 'Mar', 4, 'May', ['Mon', 'Tues', 'Wed'], 'Jun']\n",
    "print(mixed[1])"
   ]
  },
  {
   "cell_type": "markdown",
   "metadata": {
    "deletable": true,
    "editable": true
   },
   "source": [
    "The \"mixed\" example contains an inner list as one of the elements of the main list. To access the entire inner list the index just needs to be used. Try the following:"
   ]
  },
  {
   "cell_type": "code",
   "execution_count": null,
   "metadata": {
    "collapsed": false,
    "deletable": true,
    "editable": true
   },
   "outputs": [],
   "source": [
    "mixed =  ['Jan', 2, 'Mar', 4, 'May', ['Mon', 'Tues', 'Wed'], 'Jun']\n",
    "print(mixed[5])"
   ]
  },
  {
   "cell_type": "markdown",
   "metadata": {
    "deletable": true,
    "editable": true
   },
   "source": [
    "To access an element in the inner list, first the inner list index is used and then the inner list index:"
   ]
  },
  {
   "cell_type": "code",
   "execution_count": null,
   "metadata": {
    "collapsed": false,
    "deletable": true,
    "editable": true
   },
   "outputs": [],
   "source": [
    "mixed =  ['Jan', 2, 'Mar', 4, 'May', ['Mon', 'Tues', 'Wed'], 'Jun']\n",
    "print(mixed[5][1])"
   ]
  },
  {
   "cell_type": "markdown",
   "metadata": {
    "deletable": true,
    "editable": true
   },
   "source": [
    "You can modify the code above to add additional inner lists."
   ]
  },
  {
   "cell_type": "markdown",
   "metadata": {
    "deletable": true,
    "editable": true
   },
   "source": [
    "## List operations"
   ]
  },
  {
   "cell_type": "markdown",
   "metadata": {
    "deletable": true,
    "editable": true
   },
   "source": [
    "Elements of a list are **accessed** by the index in square brackets, so list[2] accesses the element at index 2:\n",
    "\n",
    "\tmonths = ['Jan', 'Feb', 'Mar', 'Apr', 'May', 'Jun'] \n",
    "\tmonth = months[2]\n",
    "\n",
    "Assigns ‘Mar’ to variable month\n",
    "\n",
    "In the same way that elements can be accessed they can also be **changed**:\n",
    "\n",
    "\tmonth[3] = \"Aug\"\n",
    "\n",
    "Now months is:\n",
    "\n",
    "\t ['Jan', 'Feb', 'Mar', Aug', 'May', 'Jun'] \n",
    "\n",
    "The **append** method adds a single item to the end of the list:\n",
    "\n",
    "\tmonths.append('Jul')\t\n",
    "\n",
    "The **extend** method adds items from another list to the end:\n",
    "\n",
    "\tmonths2 = ['Aug', 'Sep', 'Oct']\n",
    "\tmonths.extend(months2) \n",
    "\t\n",
    "**Insert** inserts an item at a given index, and move the remaining items to the right.\n",
    "\n",
    "\tlist.insert(index, item)\n",
    "\tmonths.insert(3, 'Dec')\n",
    "\n",
    "You can also remove items from a list: \n",
    "\n",
    "The **del** statement can be used to remove an individual item, or to remove all items identified by a slice. A slice identifies a starting and ending index.\n",
    "\n",
    "\t del months[2]\n",
    " \n",
    "The **pop** method removes an individual item and returns it. With no index specified it removes the last item in the list.\n",
    "\n",
    "\tmonth = months.pop()  # last item \n",
    "\tmonth = months.pop(0) # first item \n",
    "\n",
    "The del statement and the pop method does pretty much the same thing, except that pop returns the removed item.\n",
    "\n",
    "\n",
    "The **remove** method searches for an item, and removes the first matching item from the list.\n",
    "\n",
    "\tmonths.remove('Jul')\n",
    "\n",
    "The order of the list can be **reverse**d or **sort**ed:\n",
    "\n",
    "\tmonths.reverse() \n",
    "\tmonths.sort()\n",
    "\t\n",
    "The **len**gth of a list can be returned, in the same way as for a string:\n",
    "\n",
    "\tlength = len(months) \n",
    "\n",
    "The **presence** of a particular item can be checked using **in**:\n",
    "\n",
    "\tif('Jul' in months)\n",
    "\t\tprint(\"In list\")\n",
    "\n",
    "\tif('Jul' not in months)\n",
    "\t\tprint(\"Not in list\"\n",
    "\n",
    "The **index** position of the first occurrence of an item in a list can be returned:\n",
    "\n",
    "\tindex = months.index('Jul')\n",
    "    \n",
    "Test the various list operators using the examples given above. The first list modifier is provided as an example:\n"
   ]
  },
  {
   "cell_type": "code",
   "execution_count": null,
   "metadata": {
    "collapsed": false,
    "deletable": true,
    "editable": true
   },
   "outputs": [],
   "source": [
    "months = ['Jan', 'Feb', 'Mar', 'Apr', 'May', 'Jun'] \n",
    "month = months[2]\n",
    "months[3] = \"Aug\"\n",
    "\n",
    "print(months)"
   ]
  },
  {
   "cell_type": "markdown",
   "metadata": {
    "deletable": true,
    "editable": true
   },
   "source": [
    "##  RANGE command"
   ]
  },
  {
   "cell_type": "markdown",
   "metadata": {
    "deletable": true,
    "editable": true
   },
   "source": [
    "Ranges are useful for generating a sequence of numbers. \n",
    "\n",
    "range(10) gives a sequence starting from zero counting up to (but not including) ten in steps of one. \n",
    "\n",
    "range(2, 10) will do the same, only starting from two instead of zero. \n",
    "\n",
    "range(-3, 3) starts from -3 and ends at 2 (not 3) in steps of one. \n",
    "\n",
    "The step size can also be altered. \n",
    "\n",
    "\trange(0, 10, 2)   is [0, 2, 4, 6, 8] \t\n",
    "\trange(10, 2, -1)  is [10, 9, 8, 7, 6, 5, 4, 3] \n",
    "\trange(-5, 7, 3)   is [-5, -2, 1, 4] \n",
    "\n",
    "The third argument to the range function alters the step size. Making the step size negative will result in a sequence that counts down. \n",
    "\n",
    "You can convert a **range** to a **list** using the **list()** function.\n",
    "\n",
    "Try this out below:\n"
   ]
  },
  {
   "cell_type": "code",
   "execution_count": null,
   "metadata": {
    "collapsed": false,
    "deletable": true,
    "editable": true
   },
   "outputs": [],
   "source": [
    "print(list(range(0, 10, 2)))"
   ]
  },
  {
   "cell_type": "markdown",
   "metadata": {
    "deletable": true,
    "editable": true
   },
   "source": [
    "## FOR loops using ranges"
   ]
  },
  {
   "cell_type": "markdown",
   "metadata": {
    "deletable": true,
    "editable": true
   },
   "source": [
    "The structure of the Python FOR loop is rather different to other languages that you may have encountered.\n",
    "\n",
    "A **for** loop will iterate over a block of code a certain number of times, for each item in a list (or each character in a string, as seen above). Because **range** creates a sequence of numbers, we can easily use it to make **for** loops over integers:"
   ]
  },
  {
   "cell_type": "code",
   "execution_count": null,
   "metadata": {
    "collapsed": false,
    "deletable": true,
    "editable": true
   },
   "outputs": [],
   "source": [
    "onetoten = range(1,11) \n",
    "for count in onetoten: \n",
    "    print(count)"
   ]
  },
  {
   "cell_type": "markdown",
   "metadata": {
    "deletable": true,
    "editable": true
   },
   "source": [
    "Or:"
   ]
  },
  {
   "cell_type": "code",
   "execution_count": null,
   "metadata": {
    "collapsed": false,
    "deletable": true,
    "editable": true
   },
   "outputs": [],
   "source": [
    "for count in range(1,11): \n",
    "    print(count)"
   ]
  },
  {
   "cell_type": "markdown",
   "metadata": {
    "deletable": true,
    "editable": true
   },
   "source": [
    "Note that the first line of the loop ends in a colon.\n",
    " \n",
    "This and the word **for** in the line tell the interpreter that this is a FOR loop and the indented block below is the code to be executed repeatedly until the last element in the list is reached. \n"
   ]
  },
  {
   "cell_type": "markdown",
   "metadata": {
    "deletable": true,
    "editable": true
   },
   "source": [
    "## Exercise 2"
   ]
  },
  {
   "cell_type": "markdown",
   "metadata": {
    "deletable": true,
    "editable": true
   },
   "source": [
    "Calculate the factorial of 5 using a FOR loop."
   ]
  },
  {
   "cell_type": "code",
   "execution_count": null,
   "metadata": {
    "collapsed": false,
    "deletable": true,
    "editable": true
   },
   "outputs": [],
   "source": []
  },
  {
   "cell_type": "markdown",
   "metadata": {
    "deletable": true,
    "editable": true
   },
   "source": [
    "## List slices"
   ]
  },
  {
   "cell_type": "markdown",
   "metadata": {
    "deletable": true,
    "editable": true
   },
   "source": [
    "Slices are used to return part of a list. \n",
    "\n",
    "The slice operator is in the form list[first_index:following_index]. The slice goes from the first_index to the index before the following_index. If the first index is not specified the beginning of the list is assumed. If the following index is not specified the whole rest of the list is assumed. You can use both types of indexing: \n",
    "\n",
    "\tlist = ['zero','one','two','three','four','five'] \n",
    "\n",
    "\tlist[0:3]  ->  ['zero','one','two'] \n",
    "\tlist[-4:-2]  ->  ['two','three'] \n",
    "\tlist[-5:6]  ->  ['one','two','three','four','five'] \n",
    "\tlist[3:]  ->  ['three','four','five'] \n",
    "\tlist[:3]  ->  ['zero','one','two']\n",
    "\n",
    "Test these examples and other variations below. The first two are provided, the first one printed directly and the second assigned to a variable first:"
   ]
  },
  {
   "cell_type": "code",
   "execution_count": null,
   "metadata": {
    "collapsed": false,
    "deletable": true,
    "editable": true
   },
   "outputs": [],
   "source": [
    "list = ['zero','one','two','three','four','five'] \n",
    "\n",
    "print(list[0:3])\n",
    "\n",
    "list_part = list[-4:-2]\n",
    "print(list_part)\n",
    "\n",
    "print(list[-5:6])\n",
    "print(list[3:])\n",
    "print(list[:3])"
   ]
  },
  {
   "cell_type": "markdown",
   "metadata": {
    "deletable": true,
    "editable": true
   },
   "source": [
    "## Displaying lists"
   ]
  },
  {
   "cell_type": "markdown",
   "metadata": {
    "deletable": true,
    "editable": true
   },
   "source": [
    "As mentioned previously, the range used in for loops is itself a list, so it is easy to create a loop over each item in a list:"
   ]
  },
  {
   "cell_type": "code",
   "execution_count": null,
   "metadata": {
    "collapsed": false,
    "deletable": true,
    "editable": true
   },
   "outputs": [],
   "source": [
    "months = ['Jan', 'Feb', 'Mar', 'Apr', 'May', 'Jun'] \n",
    "\n",
    "for month in months: \n",
    "    print(\"The month is:\", month)"
   ]
  },
  {
   "cell_type": "markdown",
   "metadata": {
    "deletable": true,
    "editable": true
   },
   "source": [
    "## Tuples"
   ]
  },
  {
   "cell_type": "markdown",
   "metadata": {
    "deletable": true,
    "editable": true
   },
   "source": [
    "Tuples are like lists but they can not be modified. Items have to be enclosed by parentheses () instead of square brackets [] to create a tuple instead of a list. \n",
    "\n",
    "In general all that can be done using tuples can be done with lists, but sometimes it is more appropriate to use a tuple in order to prevent internal changes. \n",
    "\n",
    "Try the following:"
   ]
  },
  {
   "cell_type": "code",
   "execution_count": null,
   "metadata": {
    "collapsed": false,
    "deletable": true,
    "editable": true
   },
   "outputs": [],
   "source": [
    "list = ['zero','one','two','three','four','five']\n",
    "tuple = ('zero','one','two','three','four','five')\n",
    "\n",
    "print(list[3])\n",
    "print(tuple[3])"
   ]
  },
  {
   "cell_type": "code",
   "execution_count": null,
   "metadata": {
    "collapsed": false,
    "deletable": true,
    "editable": true
   },
   "outputs": [],
   "source": [
    "list[3] = \"nine\"\n",
    "print(list)"
   ]
  },
  {
   "cell_type": "code",
   "execution_count": null,
   "metadata": {
    "collapsed": false,
    "deletable": true,
    "editable": true
   },
   "outputs": [],
   "source": [
    "tuple[3] = \"nine\"\n",
    "print(tuple)"
   ]
  },
  {
   "cell_type": "markdown",
   "metadata": {
    "deletable": true,
    "editable": true
   },
   "source": [
    "## Functions"
   ]
  },
  {
   "cell_type": "markdown",
   "metadata": {
    "deletable": true,
    "editable": true
   },
   "source": [
    "A **function** in programming is simply a list of statements that is given a name so that it can easily be re-used. In Python, a function is defined using the keyword **def** followed by the function name, a pair of parentheses () and a colon. The list of statements that make up the function is identified by an indented block of code:\n",
    "\n",
    "    def hello():\n",
    "        print(\"Hello World!\")\n",
    "\t\t\n",
    "\n",
    "A function has to be declared in the program *before* it is used.\n",
    "\n",
    "The code within the function is then **called** like this:\n",
    "\n",
    "    hello()\n",
    "\n",
    "Test the function below and try modified versions:"
   ]
  },
  {
   "cell_type": "code",
   "execution_count": null,
   "metadata": {
    "collapsed": false,
    "deletable": true,
    "editable": true
   },
   "outputs": [],
   "source": [
    "def hello(): \n",
    "    print(\"Hello World!\") \n",
    "\n",
    "hello()\n",
    "hello()"
   ]
  },
  {
   "cell_type": "markdown",
   "metadata": {
    "deletable": true,
    "editable": true
   },
   "source": [
    "## Parameters and arguments"
   ]
  },
  {
   "cell_type": "markdown",
   "metadata": {
    "deletable": true,
    "editable": true
   },
   "source": [
    "A function can recive information in the form of **arguments** given within the parentheses when it is called. These values are then passed to the **parameters** that are declared within the function definition:\n",
    "\n",
    "\tdef hello(name1, name2):   # name1 and name2 are the parameters of hello()\n",
    "\t\tprint(\"Hello\", name1, \"and\", name2)\n",
    "\t\t\n",
    "\thello(\"Lenka\", \"Jana\")  # \"Lenka\" and \"Jana\" are the arguments given\n",
    "\n",
    "    Output:\n",
    "\n",
    "        Hello Lenka and Jana\n",
    "\n",
    "Test the function below with different arguments and try modified versions:"
   ]
  },
  {
   "cell_type": "code",
   "execution_count": null,
   "metadata": {
    "collapsed": false,
    "deletable": true,
    "editable": true
   },
   "outputs": [],
   "source": [
    "def hello(name1, name2):   # name1 and name2 are the parameters of hello()\n",
    "    print(\"Hello\", name1, \"and\", name2)\n",
    "\n",
    "hello(\"Lenka\", \"Jana\")  # \"Lenka\" and \"Jana\" are the arguments given"
   ]
  },
  {
   "cell_type": "markdown",
   "metadata": {
    "deletable": true,
    "editable": true
   },
   "source": [
    "## Exercise 3"
   ]
  },
  {
   "cell_type": "markdown",
   "metadata": {
    "deletable": true,
    "editable": true
   },
   "source": [
    "Using only the Python concepts you have learned so far, write a function **square()** that takes an integer as argument and prints a square of that size, e.g.\n",
    "\n",
    "    square(4)\n",
    "\n",
    "    ****\n",
    "    *  *\n",
    "    *  *\n",
    "    ****"
   ]
  },
  {
   "cell_type": "code",
   "execution_count": null,
   "metadata": {
    "collapsed": false,
    "deletable": true,
    "editable": true
   },
   "outputs": [],
   "source": []
  },
  {
   "cell_type": "markdown",
   "metadata": {
    "deletable": true,
    "editable": true
   },
   "source": [
    "## Further reading"
   ]
  },
  {
   "cell_type": "markdown",
   "metadata": {
    "deletable": true,
    "editable": true
   },
   "source": [
    "From Think Python 2nd edition by Allen B. Downey\n",
    "\n",
    "[Chapter 8](http://www.greenteapress.com/thinkpython2/html/thinkpython2009.html): all about strings.\n",
    "\n",
    "[Chapter 10](http://www.greenteapress.com/thinkpython2/html/thinkpython2011.html): all about lists.\n",
    "\n",
    "[Chapter 3](http://www.greenteapress.com/thinkpython2/html/thinkpython2004.html): all about functions.\n"
   ]
  }
 ],
 "metadata": {
  "kernelspec": {
   "display_name": "Python [Root]",
   "language": "python",
   "name": "Python [Root]"
  },
  "language_info": {
   "codemirror_mode": {
    "name": "ipython",
    "version": 3
   },
   "file_extension": ".py",
   "mimetype": "text/x-python",
   "name": "python",
   "nbconvert_exporter": "python",
   "pygments_lexer": "ipython3",
   "version": "3.5.2"
  }
 },
 "nbformat": 4,
 "nbformat_minor": 0
}
